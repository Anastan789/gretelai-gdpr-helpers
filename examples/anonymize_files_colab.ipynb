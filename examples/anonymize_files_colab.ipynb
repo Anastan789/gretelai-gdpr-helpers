{
  "nbformat": 4,
  "nbformat_minor": 0,
  "metadata": {
    "colab": {
      "provenance": []
    },
    "kernelspec": {
      "name": "python3",
      "display_name": "Python 3"
    },
    "language_info": {
      "name": "python"
    }
  },
  "cells": [
    {
      "cell_type": "markdown",
      "source": [
        "# GDPR Anonymization Example\n",
        "\n",
        "This notebook uses generative AI-based models to anonymize sensitive data to meet or exceed GDPR standards. Try running the example below and compare the synthetic data vs the real world data on the example datasets.\n",
        "\n",
        "**Example datasets provided:**\n",
        "* Google Meet logs\n",
        "* E-commerce dataset of bike orders\n",
        "* Electronic health records\n",
        "\n"
      ],
      "metadata": {
        "id": "LKn9JY2VacjH"
      }
    },
    {
      "cell_type": "code",
      "execution_count": null,
      "metadata": {
        "id": "6tCrirHHuw_X"
      },
      "outputs": [],
      "source": [
        "# Install dependencies\n",
        "\n",
        "%%capture\n",
        "!git clone https://github.com/gretelai/gdpr-helpers.git\n",
        "!cd gdpr-helpers; pip install -Uqq .\n",
        "\n",
        "import os\n",
        "if not os.getcwd().endswith('gdpr-helpers'):\n",
        "    os.chdir('gdpr-helpers')"
      ]
    },
    {
      "cell_type": "markdown",
      "source": [
        "# Anonymize a directory of CSV files\n",
        "1. Detect and remove PII automatically using named entity recognition.\n",
        "2. Train synthetic model and generate new anonymized, synthetic dataset that is resistant to privacy attacks.\n",
        "3. Review output reports, and update the transform and synthetics configs as necessary for your use cases."
      ],
      "metadata": {
        "id": "0Vrova2tbyYI"
      }
    },
    {
      "cell_type": "code",
      "source": [
        "import glob\n",
        "from gdpr_helpers import Anonymizer\n",
        "\n",
        "search_pattern = \"data/*.csv\"\n",
        "\n",
        "am = Anonymizer(\n",
        "    project_name=\"gdpr-workflow\",\n",
        "    run_mode=\"cloud\",\n",
        "    transforms_config=\"src/config/transforms_config.yaml\",\n",
        "    synthetics_config=\"src/config/synthetics_config.yaml\",\n",
        "    endpoint=\"https://api-dev.gretel.cloud\"\n",
        "    )\n",
        "\n",
        "for dataset_path in glob.glob(search_pattern):\n",
        "    am.anonymize(dataset_path=dataset_path)"
      ],
      "metadata": {
        "id": "F6QVw4AYxmni"
      },
      "execution_count": null,
      "outputs": []
    },
    {
      "cell_type": "code",
      "source": [
        "# Download the anonymized datasets\n",
        "import shutil\n",
        "from google.colab import files\n",
        "\n",
        "output_filename = 'anonymized_data'\n",
        "print(shutil.make_archive(output_filename, 'zip', \"artifacts\"))\n",
        "\n",
        "files.download(f\"{output_filename}.zip\")"
      ],
      "metadata": {
        "id": "tw1_x8mRTPxz"
      },
      "execution_count": null,
      "outputs": []
    }
  ]
}