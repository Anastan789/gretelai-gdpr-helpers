{
  "nbformat": 4,
  "nbformat_minor": 0,
  "metadata": {
    "colab": {
      "provenance": []
    },
    "kernelspec": {
      "name": "python3",
      "display_name": "Python 3"
    },
    "language_info": {
      "name": "python"
    }
  },
  "cells": [
    {
      "cell_type": "code",
      "execution_count": null,
      "metadata": {
        "id": "6tCrirHHuw_X"
      },
      "outputs": [],
      "source": [
        "%%capture\n",
        "!git clone https://github.com/gretelai/gdpr-helpers.git\n",
        "!cd gdpr-helpers; pip install -Uqq .\n",
        "\n",
        "import os\n",
        "if not os.getcwd().endswith('gdpr-helpers'):\n",
        "    os.chdir('gdpr-helpers')\n"
      ]
    },
    {
      "cell_type": "code",
      "source": [
        "import glob\n",
        "from gdpr_helpers import Anonymizer\n",
        "\n",
        "search_pattern = \"data/*.csv\"\n",
        "\n",
        "am = Anonymizer(\n",
        "    project_name=\"gdpr-workflow\",\n",
        "    run_mode=\"cloud\",\n",
        "    transforms_config=\"src/config/transforms_config.yaml\",\n",
        "    synthetics_config=\"src/config/synthetics_config.yaml\",\n",
        "    endpoint=\"https://api-dev.gretel.cloud\"\n",
        "    )\n",
        "\n",
        "for dataset_path in glob.glob(search_pattern):\n",
        "    am.anonymize(dataset_path=dataset_path)"
      ],
      "metadata": {
        "id": "F6QVw4AYxmni"
      },
      "execution_count": null,
      "outputs": []
    },
    {
      "cell_type": "code",
      "source": [
        "# Download the anonymized datasets\n",
        "import shutil\n",
        "from google.colab import files\n",
        "\n",
        "output_filename = 'anonymized_data'\n",
        "print(shutil.make_archive(output_filename, 'zip', \"artifacts\"))\n",
        "\n",
        "files.download(f\"{output_filename}.zip\")"
      ],
      "metadata": {
        "id": "tw1_x8mRTPxz"
      },
      "execution_count": null,
      "outputs": []
    },
    {
      "cell_type": "code",
      "source": [
        "\"\""
      ],
      "metadata": {
        "id": "Xs7NF74WXw_0"
      },
      "execution_count": null,
      "outputs": []
    }
  ]
}